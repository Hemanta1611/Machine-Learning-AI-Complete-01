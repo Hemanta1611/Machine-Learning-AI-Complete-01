{
 "cells": [
  {
   "cell_type": "markdown",
   "metadata": {},
   "source": [
    "## `Data Engineering`"
   ]
  },
  {
   "cell_type": "markdown",
   "metadata": {},
   "source": [
    "#### Data formats\n",
    "    - Structured Data (sql)\n",
    "    - Semi-structured Data (xml, csv, json)\n",
    "    - Unstructured Data (Pdf, Mail, etc)\n",
    "    - Binary Data (Audio, Image, Video)"
   ]
  },
  {
   "cell_type": "markdown",
   "metadata": {},
   "source": []
  }
 ],
 "metadata": {
  "language_info": {
   "name": "python"
  }
 },
 "nbformat": 4,
 "nbformat_minor": 2
}
