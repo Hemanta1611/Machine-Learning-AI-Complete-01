{
 "cells": [
  {
   "cell_type": "markdown",
   "metadata": {},
   "source": [
    "# ml-playground.com"
   ]
  },
  {
   "cell_type": "markdown",
   "metadata": {},
   "source": [
    "<img src=\"ML-Playground-YT-recommendation-System.png\" alt=\"alt text\" width=\"800\" height=\"500\">"
   ]
  },
  {
   "cell_type": "markdown",
   "metadata": {},
   "source": [
    "### The image shows a scatter plot visualization of a YouTube video recommendation system where:\n",
    "\n",
    "1. **Axes**:\n",
    "   - X-axis: Number of video likes\n",
    "   - Y-axis: Video length (likely in minutes)\n",
    "\n",
    "2. **Data Points**:\n",
    "   - Orange points (Person B): Represent videos watched/liked by Person B\n",
    "   - Purple points (Person A): Represent videos watched/liked by Person A\n",
    "\n",
    "3. **KNN Implementation**:\n",
    "   - The system uses K-Nearest Neighbors algorithm to make recommendations\n",
    "   - When a new video is added (represented by a point in this 2D space), the algorithm:\n",
    "     - Finds the K nearest neighbors (closest points) to the new video\n",
    "     - Makes a recommendation based on which user (A or B) has more videos in the neighborhood\n",
    "     - The decision boundary between the two classes (A and B) is shown by the separation between purple and orange regions\n",
    "\n",
    "4. **Recommendation Logic**:\n",
    "   - If a new video falls in the purple region, it's more likely to be recommended to Person A\n",
    "   - If a new video falls in the orange region, it's more likely to be recommended to Person B\n",
    "   - This is based on the assumption that users with similar viewing patterns (video length and likes) will have similar preferences\n",
    "\n",
    "5. **Pattern Analysis**:\n",
    "   - Person A (purple) seems to prefer:\n",
    "     - Videos with higher like counts\n",
    "     - Possibly longer video lengths\n",
    "   - Person B (orange) seems to prefer:\n",
    "     - Videos with lower like counts\n",
    "     - Possibly shorter video lengths\n",
    "\n",
    "This visualization demonstrates how KNN can be used to create a simple but effective recommendation system based on two features: video length and number of likes. The algorithm learns the patterns of each user's preferences and can make predictions about which user might be interested in a new video based on these features.\n"
   ]
  },
  {
   "cell_type": "markdown",
   "metadata": {},
   "source": [
    "# Teachable Machine\n",
    "<img src=\"TM 1.png\" alt=\"alt text\" width=\"800\" height=\"500\">\n",
    "\n",
    "## image classification\n",
    "<img src=\"TM 2.png\" alt=\"alt text\" width=\"800\" height=\"500\">"
   ]
  },
  {
   "cell_type": "markdown",
   "metadata": {},
   "source": []
  }
 ],
 "metadata": {
  "language_info": {
   "name": "python"
  }
 },
 "nbformat": 4,
 "nbformat_minor": 2
}
