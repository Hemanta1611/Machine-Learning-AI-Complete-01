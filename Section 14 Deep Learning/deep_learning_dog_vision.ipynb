{
 "cells": [
  {
   "cell_type": "markdown",
   "metadata": {},
   "source": [
    "# `Deep Learning`"
   ]
  },
  {
   "cell_type": "markdown",
   "metadata": {},
   "source": [
    "### `Tensorflow:` \n",
    "\n",
    "1. Write fast deep leaning code in python (able to run on gpu) <br>\n",
    "2. Able to access many pre-built deep learning models <br>\n",
    "3. Whole stack: preprocess, model, deploy <br>\n",
    "4. Originally desined and used in-house by Google (now open-source) <br>"
   ]
  },
  {
   "cell_type": "markdown",
   "metadata": {},
   "source": [
    "![](abc.jpg)"
   ]
  },
  {
   "cell_type": "markdown",
   "metadata": {},
   "source": [
    "### `Transfer Learning:`"
   ]
  },
  {
   "cell_type": "markdown",
   "metadata": {},
   "source": [
    "1. Take what you know in one domain and apply it to another <br>\n",
    "2. Starting from scratchh can be expensive and time consuming <br>\n",
    "3. Why not tak advantages of what's already out there! <br>"
   ]
  },
  {
   "cell_type": "markdown",
   "metadata": {},
   "source": [
    "`The workflow of Deep Learning is same as Machine Learning (Scikit-Learn)`"
   ]
  },
  {
   "cell_type": "code",
   "execution_count": 1,
   "metadata": {},
   "outputs": [],
   "source": [
    "what_we_are_learning = {\"1\": \"An end-to-end multi-class classification workflow with Tensorflow\",\n",
    "                      \"2\": \"Preprocessing image data(getting it into Tensors)\",\n",
    "                      \"3\": \"Choosing a deep learning model\",\n",
    "                      \"4\": \"Fitting a model to the data (learning patterns)\",\n",
    "                      \"5\": \"Making predictions with a model(using patterns)\",\n",
    "                      \"6\": \"Evaluating model predictions\",\n",
    "                      \"7\": \"Saving and loading models\",\n",
    "                      \"8\": \"Using a trained model to make predictions on custom data\"}"
   ]
  },
  {
   "cell_type": "markdown",
   "metadata": {},
   "source": [
    "`https://www.kaggle.com/c/dog-breed-identification/data`"
   ]
  },
  {
   "cell_type": "markdown",
   "metadata": {},
   "source": [
    "We are going to do this project on google colab for access of gpu and faster computation and training.\n",
    "`https://colab.research.google.com/drive/1QAUezsJXm06dy-vk1GHzG4mepav1oyFj?usp=sharing`"
   ]
  },
  {
   "cell_type": "code",
   "execution_count": null,
   "metadata": {},
   "outputs": [],
   "source": []
  }
 ],
 "metadata": {
  "kernelspec": {
   "display_name": "venv",
   "language": "python",
   "name": "python3"
  },
  "language_info": {
   "codemirror_mode": {
    "name": "ipython",
    "version": 3
   },
   "file_extension": ".py",
   "mimetype": "text/x-python",
   "name": "python",
   "nbconvert_exporter": "python",
   "pygments_lexer": "ipython3",
   "version": "3.11.0"
  }
 },
 "nbformat": 4,
 "nbformat_minor": 2
}
