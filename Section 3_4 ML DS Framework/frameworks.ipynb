{
 "cells": [
  {
   "cell_type": "markdown",
   "metadata": {},
   "source": [
    "# Frameworks in Machine Learning"
   ]
  },
  {
   "cell_type": "markdown",
   "metadata": {},
   "source": [
    "## The Frameworks we'll be Using: \n",
    "\n",
    "### 6 Steps framwork:\n",
    "1. Problem Definition: What problem are we trying to solve? <br>\n",
    "    Supervised |(or) Unsupervised | Classification | Regression\n",
    "\n",
    "2. Data Collection: What data do we have? <br>\n",
    "    Structure Data | Unstructured Data\n",
    "\n",
    "3. Evaluation: What define success?\n",
    "4. Features: What features should we model?\n",
    "5. Modelling: What kind of model should we use?\n",
    "6. Experiments: What have we tried/ what else we can try?"
   ]
  },
  {
   "cell_type": "markdown",
   "metadata": {},
   "source": [
    "https://www.mrdbourke.com/a-6-step-field-guide-for-building-machine-learning-projects/"
   ]
  },
  {
   "cell_type": "markdown",
   "metadata": {},
   "source": []
  }
 ],
 "metadata": {
  "language_info": {
   "name": "python"
  }
 },
 "nbformat": 4,
 "nbformat_minor": 2
}
